{
 "cells": [
  {
   "cell_type": "markdown",
   "metadata": {},
   "source": [
    "# Relativistic Cloud Crushing\n",
    "\n",
    "The cloud crushing problem is first described by, I think, [Klein et al. 1994](https://ui.adsabs.harvard.edu/abs/1994ApJ...420..213K/abstract), hereafter K94. The basic setup is that a cloud and shock interact, and the shock tears the cloud apart. K94 calculate the cloud-crushing time, given by \n",
    "\n",
    "$$t_{cc} = \\frac{R_c \\chi^{1/2}}{v}$$\n",
    "\n",
    "where $\\chi=\\rho_c/\\rho_0$ is the density contrast between the cloud and $v$ is the velocity of the shock in the ambient medium. I think the cloud-crushing time is basically the same for the case where the cloud is embedded in, say, a hot wind. A shock passes through the cloud and K94 show that the shock propagates through the cloud at $v_s=v_b/\\chi^{1/2}$. This is the origin of the above expression.\n",
    "\n",
    "Let's consider the above expression for a second, in the context of XRB jet ejections. Let's assume we eject a blob with size $R_b$. For simplicity let's assume that it doesn't expand (i.e. it is in pressure equilibrium with its surroundings) and that it moves with a nonrelativistic speed $v_b$. In this case we would expect the blob to be ripped apart (and presumably decelerate?) on the timescale $t_{cc}$. If one knows the number of electrons in the blob, one could relate the mass density of the blob to the number of electrons by an equation like \n",
    "$$\\rho_b = f n_e  m_p$$\n",
    "$f$ isn't quite the normal mean atomic weight here, because it would be roughly 2 in the case of even protons plus electrons. Probably a better way to write this but it'll do for now. The density of the ambient medium is \n",
    "$$\\rho_0 = n_0 \\mu_0 m_p$$\n",
    "where $\\mu$ is the normal mean atomic weight and $n_0$ is total particle number density of the ISM. \n",
    "We can now write \n",
    "$$t_{cc} = \\frac{R_b}{v_b} \\left( \\frac{f n_e  m_p}{n_0 \\mu_0 m_p} \\right)^{1/2}$$\n",
    "rearranging\n",
    "$$f = \\frac{n_0 \\mu_0}{n_e} \\left(\\frac{v_b t}{R_b}\\right)^2$$  \n",
    "this suggests you can infer the composition of the blob if you know some properties of the blob (radius and number density) and the density of the ambient medium.\n",
    "\n",
    "Questions:\n",
    "* can the cloud-crushing time can be written in the relativistic sense? (yes, it must be possible, I just don't know how to get there yet). I think one has to work out the speed of the shock through the cloud in the rest frame of the cloud using the relativistic jump conditions. Not trivial, but known. \n",
    "* what about the expansion of the blob? the radius and density contrast will both change over time as the blob expands, so $t_{cc}$ will also change (do an integral?).  \n",
    "\n",
    "Let's plug in a few numbers for a blob speed of $c$. For a density contrast of 1, the cloud-crushing time is obviously just the light-travel time across the blob, which is\n",
    "$$t_{cc} = 0.02s \\frac{R_b}{7e8cm} \\left(\\frac{v}{c} \\right)^{-1} \\left( \\frac{\\chi}{1} \\right)^{1/2}$$\n",
    "This is very small. To get a crushing time of say, 100 days, we need an increase of $4.3e8$, which is a density contrast of 2e17. This is about a factor 50 lower than the value assuming even numbers of protons and electrons from - perhaps not too far off given uncertainties in the above and factors of $\\gamma$ floating around? \n"
   ]
  },
  {
   "cell_type": "code",
   "execution_count": null,
   "metadata": {},
   "outputs": [],
   "source": []
  },
  {
   "cell_type": "markdown",
   "metadata": {},
   "source": [
    "\n"
   ]
  }
 ],
 "metadata": {
  "kernelspec": {
   "display_name": "Python 3",
   "language": "python",
   "name": "python3"
  },
  "language_info": {
   "codemirror_mode": {
    "name": "ipython",
    "version": 3
   },
   "file_extension": ".py",
   "mimetype": "text/x-python",
   "name": "python",
   "nbconvert_exporter": "python",
   "pygments_lexer": "ipython3",
   "version": "3.7.4"
  }
 },
 "nbformat": 4,
 "nbformat_minor": 1
}
